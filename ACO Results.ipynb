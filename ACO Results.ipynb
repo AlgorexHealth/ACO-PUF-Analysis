{
 "cells": [
  {
   "cell_type": "code",
   "execution_count": 1,
   "metadata": {},
   "outputs": [
    {
     "data": {
      "text/plain": [
       "ThemeRegistry.enable('la-times')"
      ]
     },
     "execution_count": 1,
     "metadata": {},
     "output_type": "execute_result"
    }
   ],
   "source": [
    "#%%\n",
    "import pandas as pd\n",
    "from pathlib import Path\n",
    "import numpy as np \n",
    "import sys\n",
    "import altair as alt\n",
    "import chart_theme\n",
    "\n",
    "# register the custom theme under a chosen name\n",
    "alt.themes.register('la-times', chart_theme.data_theme)\n",
    "\n",
    "# enable the newly registered theme\n",
    "alt.themes.enable('la-times')\n"
   ]
  },
  {
   "cell_type": "code",
   "execution_count": 2,
   "metadata": {},
   "outputs": [
    {
     "name": "stdout",
     "output_type": "stream",
     "text": [
      "Index(['year', 'ACO_Name', 'EarnSaveLoss', 'N_AB', 'CMS_HCC_RiskScore_AGND_PY',\n",
      "       'Earning', 'members'],\n",
      "      dtype='object')\n"
     ]
    }
   ],
   "source": [
    "\n",
    "\n",
    "\n",
    "\n",
    "file2013 = pd.read_csv(\"data/2013_SSP_ACO_PUF/Final.ACO.SSP.PUF.Y2013_with_risk_scores.csv\")\n",
    "file2014 = pd.read_csv(\"data/2014_SSP_ACO_PUF/ACO.SSP.PUF.Y2014.FINAL.csv\")\n",
    "file2015 = pd.read_csv(\"data/2015_SSP_ACO_PUF/ACO.SSP.PUF.Y2015.csv\")\n",
    "file2016 = pd.read_csv(\"data/2016_SSP_ACO_PUF/ACO.SSP.PUF.Y2016.csv\")\n",
    "file2017 = pd.read_csv(\"data/2017_SSP_ACO_PUF/ACO.SSP.PUF.Y2017.csv\")\n",
    "\n",
    "\n",
    "#%%\n",
    "file2013['year'] = 2013\n",
    "file2013['EarnSaveLoss'] = file2013.EarnShrSavings\n",
    "file2013['ACO_Name'] = file2013.ACO_NAME\n",
    "\n",
    "file2014['year'] = 2014\n",
    "file2015['year'] = 2015\n",
    "file2016['year'] = 2016\n",
    "file2017['year'] = 2017\n",
    "\n",
    "interesting_columns = ['year','ACO_Name','EarnSaveLoss','N_AB','CMS_HCC_RiskScore_AGND_PY']\n",
    "all_frames = [file2013, file2014, file2015,file2016, file2017]\n",
    "combined_frame = pd.concat([frame[interesting_columns] for frame in all_frames])\n",
    "\n",
    "\n",
    "#%%\n",
    "def de_comma_number(num):\n",
    "    num_str = str(num)\n",
    "    try:\n",
    "        float(num_str.replace(\",\",\"\"))\n",
    "    except:\n",
    "        return 0\n",
    "    return float(num_str.replace(\",\",\"\"))\n",
    "\n",
    "\n",
    "def earning(save_loss):\n",
    "    if type(save_loss) == str:\n",
    "        num_val = de_comma_number(save_loss)\n",
    "    else:\n",
    "        num_val = save_loss\n",
    "    \n",
    "    if num_val > 0:\n",
    "        return \"Earned\"\n",
    "    else:\n",
    "        return \"No Earnings\"\n",
    "\n",
    "combined_frame['Earning'] = combined_frame.EarnSaveLoss.apply(earning)\n",
    "combined_frame['members'] = combined_frame.N_AB.apply(de_comma_number)\n",
    "print(combined_frame.columns)\n"
   ]
  },
  {
   "cell_type": "code",
   "execution_count": 3,
   "metadata": {},
   "outputs": [],
   "source": [
    "\n",
    "def weighted_average_group(group):\n",
    "    total = group['members'].sum()\n",
    "    aco_values = group['CMS_HCC_RiskScore_AGND_PY'] * group['members']\n",
    "    result =  aco_values.sum()/total\n",
    "    # result.name = 'RiskScoreAvgWGHT'\n",
    "    return result\n",
    "\n",
    "aggregate_results = combined_frame.groupby(['year','Earning']).agg({'ACO_Name':np.count_nonzero, 'members':np.sum })\n",
    "\n",
    "wght_averages = combined_frame.groupby(['year','Earning']).apply(weighted_average_group)\n",
    "wght_averages.name = 'ACO_WGHT_HCC_AVG'\n",
    "data_to_chart = aggregate_results.join(wght_averages).reset_index()"
   ]
  },
  {
   "cell_type": "code",
   "execution_count": null,
   "metadata": {},
   "outputs": [],
   "source": []
  },
  {
   "cell_type": "code",
   "execution_count": 4,
   "metadata": {},
   "outputs": [
    {
     "data": {
      "text/html": [
       "<div>\n",
       "<style scoped>\n",
       "    .dataframe tbody tr th:only-of-type {\n",
       "        vertical-align: middle;\n",
       "    }\n",
       "\n",
       "    .dataframe tbody tr th {\n",
       "        vertical-align: top;\n",
       "    }\n",
       "\n",
       "    .dataframe thead th {\n",
       "        text-align: right;\n",
       "    }\n",
       "</style>\n",
       "<table border=\"1\" class=\"dataframe\">\n",
       "  <thead>\n",
       "    <tr style=\"text-align: right;\">\n",
       "      <th></th>\n",
       "      <th>year</th>\n",
       "      <th>Earning</th>\n",
       "      <th>ACO_Name</th>\n",
       "      <th>members</th>\n",
       "      <th>ACO_WGHT_HCC_AVG</th>\n",
       "    </tr>\n",
       "  </thead>\n",
       "  <tbody>\n",
       "    <tr>\n",
       "      <th>0</th>\n",
       "      <td>2013</td>\n",
       "      <td>Earned</td>\n",
       "      <td>52</td>\n",
       "      <td>886810.0</td>\n",
       "      <td>1.086600</td>\n",
       "    </tr>\n",
       "    <tr>\n",
       "      <th>1</th>\n",
       "      <td>2013</td>\n",
       "      <td>No Earnings</td>\n",
       "      <td>168</td>\n",
       "      <td>2788453.0</td>\n",
       "      <td>1.048451</td>\n",
       "    </tr>\n",
       "    <tr>\n",
       "      <th>2</th>\n",
       "      <td>2014</td>\n",
       "      <td>Earned</td>\n",
       "      <td>86</td>\n",
       "      <td>1354279.0</td>\n",
       "      <td>1.078080</td>\n",
       "    </tr>\n",
       "    <tr>\n",
       "      <th>3</th>\n",
       "      <td>2014</td>\n",
       "      <td>No Earnings</td>\n",
       "      <td>247</td>\n",
       "      <td>3975552.0</td>\n",
       "      <td>1.047277</td>\n",
       "    </tr>\n",
       "    <tr>\n",
       "      <th>4</th>\n",
       "      <td>2015</td>\n",
       "      <td>Earned</td>\n",
       "      <td>119</td>\n",
       "      <td>2074841.0</td>\n",
       "      <td>1.080939</td>\n",
       "    </tr>\n",
       "    <tr>\n",
       "      <th>5</th>\n",
       "      <td>2015</td>\n",
       "      <td>No Earnings</td>\n",
       "      <td>273</td>\n",
       "      <td>5195392.0</td>\n",
       "      <td>1.039918</td>\n",
       "    </tr>\n",
       "    <tr>\n",
       "      <th>6</th>\n",
       "      <td>2016</td>\n",
       "      <td>Earned</td>\n",
       "      <td>134</td>\n",
       "      <td>2169026.0</td>\n",
       "      <td>1.099063</td>\n",
       "    </tr>\n",
       "    <tr>\n",
       "      <th>7</th>\n",
       "      <td>2016</td>\n",
       "      <td>No Earnings</td>\n",
       "      <td>298</td>\n",
       "      <td>5715032.0</td>\n",
       "      <td>1.057009</td>\n",
       "    </tr>\n",
       "    <tr>\n",
       "      <th>8</th>\n",
       "      <td>2017</td>\n",
       "      <td>Earned</td>\n",
       "      <td>159</td>\n",
       "      <td>2963991.0</td>\n",
       "      <td>1.015513</td>\n",
       "    </tr>\n",
       "    <tr>\n",
       "      <th>9</th>\n",
       "      <td>2017</td>\n",
       "      <td>No Earnings</td>\n",
       "      <td>313</td>\n",
       "      <td>6028895.0</td>\n",
       "      <td>0.997226</td>\n",
       "    </tr>\n",
       "  </tbody>\n",
       "</table>\n",
       "</div>"
      ],
      "text/plain": [
       "   year      Earning  ACO_Name    members  ACO_WGHT_HCC_AVG\n",
       "0  2013       Earned        52   886810.0          1.086600\n",
       "1  2013  No Earnings       168  2788453.0          1.048451\n",
       "2  2014       Earned        86  1354279.0          1.078080\n",
       "3  2014  No Earnings       247  3975552.0          1.047277\n",
       "4  2015       Earned       119  2074841.0          1.080939\n",
       "5  2015  No Earnings       273  5195392.0          1.039918\n",
       "6  2016       Earned       134  2169026.0          1.099063\n",
       "7  2016  No Earnings       298  5715032.0          1.057009\n",
       "8  2017       Earned       159  2963991.0          1.015513\n",
       "9  2017  No Earnings       313  6028895.0          0.997226"
      ]
     },
     "execution_count": 4,
     "metadata": {},
     "output_type": "execute_result"
    }
   ],
   "source": [
    "data_to_chart"
   ]
  },
  {
   "cell_type": "code",
   "execution_count": 5,
   "metadata": {},
   "outputs": [
    {
     "data": {
      "application/vnd.vegalite.v2+json": {
       "$schema": "https://vega.github.io/schema/vega-lite/v2.6.0.json",
       "config": {
        "arc": {
         "fill": "#82c6df"
        },
        "area": {
         "fill": "#82c6df"
        },
        "axis": {
         "labelFont": "Arial",
         "labelFontSize": 11.5,
         "labelFontWeight": "normal",
         "titleFont": "Benton Gothic Bold, sans-serif",
         "titleFontSize": 13,
         "titleFontWeight": "normal"
        },
        "axisX": {
         "labelAngle": 0,
         "labelPadding": 4,
         "tickSize": 3
        },
        "axisY": {
         "labelBaseline": "middle",
         "maxExtent": 45,
         "minExtent": 45,
         "tickSize": 2,
         "titleAlign": "left",
         "titleAngle": 0,
         "titleX": -45,
         "titleY": -11
        },
        "background": "#ffffff",
        "legend": {
         "labelFont": "Arial",
         "labelFontSize": 11.5,
         "titleFont": "Benton Gothic Bold, sans-serif",
         "titleFontSize": 13,
         "titleFontWeight": "normal"
        },
        "line": {
         "stroke": "#82c6df",
         "strokeWidth": 2
        },
        "path": {
         "stroke": "#82c6df"
        },
        "range": {
         "category": [
          "#ec8431",
          "#829eb1",
          "#c89d29",
          "#3580b1",
          "#adc839",
          "#ab7fb4"
         ],
         "diverging": [
          "#e68a4f",
          "#f4bb6a",
          "#f9e39c",
          "#dadfe2",
          "#a6b7c6",
          "#849eae"
         ],
         "heatmap": [
          "#fbf2c7",
          "#f9e39c",
          "#f8d36e",
          "#f4bb6a",
          "#e68a4f",
          "#d15a40",
          "#ab4232"
         ],
         "ordinal": [
          "#fbf2c7",
          "#f9e39c",
          "#f8d36e",
          "#f4bb6a",
          "#e68a4f",
          "#d15a40",
          "#ab4232"
         ],
         "ramp": [
          "#fbf2c7",
          "#f9e39c",
          "#f8d36e",
          "#f4bb6a",
          "#e68a4f",
          "#d15a40",
          "#ab4232"
         ]
        },
        "rect": {
         "fill": "#82c6df"
        },
        "shape": {
         "stroke": "#82c6df"
        },
        "symbol": {
         "fill": "#82c6df",
         "size": 30
        },
        "title": {
         "anchor": "start",
         "font": "Benton Gothic Bold, sans-serif",
         "fontColor": "#000000",
         "fontSize": 22,
         "fontWeight": "normal"
        }
       },
       "data": {
        "name": "data-f61b381f50b389f2b6021592f26405bb"
       },
       "datasets": {
        "data-f61b381f50b389f2b6021592f26405bb": [
         {
          "ACO_Name": 52,
          "ACO_WGHT_HCC_AVG": 1.0866001601549755,
          "Earning": "Earned",
          "members": 886810,
          "year": 2013
         },
         {
          "ACO_Name": 168,
          "ACO_WGHT_HCC_AVG": 1.0484507847342062,
          "Earning": "No Earnings",
          "members": 2788453,
          "year": 2013
         },
         {
          "ACO_Name": 86,
          "ACO_WGHT_HCC_AVG": 1.078079652764292,
          "Earning": "Earned",
          "members": 1354279,
          "year": 2014
         },
         {
          "ACO_Name": 247,
          "ACO_WGHT_HCC_AVG": 1.0472772394548242,
          "Earning": "No Earnings",
          "members": 3975552,
          "year": 2014
         },
         {
          "ACO_Name": 119,
          "ACO_WGHT_HCC_AVG": 1.0809390714758387,
          "Earning": "Earned",
          "members": 2074841,
          "year": 2015
         },
         {
          "ACO_Name": 273,
          "ACO_WGHT_HCC_AVG": 1.0399175348077683,
          "Earning": "No Earnings",
          "members": 5195392,
          "year": 2015
         },
         {
          "ACO_Name": 134,
          "ACO_WGHT_HCC_AVG": 1.0990630587185215,
          "Earning": "Earned",
          "members": 2169026,
          "year": 2016
         },
         {
          "ACO_Name": 298,
          "ACO_WGHT_HCC_AVG": 1.0570087514820563,
          "Earning": "No Earnings",
          "members": 5715032,
          "year": 2016
         },
         {
          "ACO_Name": 159,
          "ACO_WGHT_HCC_AVG": 1.01551250627954,
          "Earning": "Earned",
          "members": 2963991,
          "year": 2017
         },
         {
          "ACO_Name": 313,
          "ACO_WGHT_HCC_AVG": 0.9972258073826132,
          "Earning": "No Earnings",
          "members": 6028895,
          "year": 2017
         }
        ]
       },
       "encoding": {
        "color": {
         "field": "Earning",
         "type": "nominal"
        },
        "column": {
         "field": "year",
         "type": "ordinal"
        },
        "x": {
         "axis": {
          "title": ""
         },
         "field": "Earning",
         "type": "nominal"
        },
        "y": {
         "axis": {
          "title": "Number of ACOs"
         },
         "field": "ACO_Name",
         "type": "quantitative"
        }
       },
       "mark": "bar"
      },
      "image/png": "[encoded data removed]",
      "text/plain": [
       "<VegaLite 2 object>\n",
       "\n",
       "If you see this message, it means the renderer has not been properly enabled\n",
       "for the frontend that you are using. For more information, see\n",
       "https://altair-viz.github.io/user_guide/troubleshooting.html\n"
      ]
     },
     "execution_count": 5,
     "metadata": {},
     "output_type": "execute_result"
    }
   ],
   "source": [
    "alt.Chart(data_to_chart).mark_bar().encode(\n",
    "    x=alt.X('Earning:N',axis=alt.Axis(title='')),\n",
    "    y=alt.Y('ACO_Name:Q', axis=alt.Axis(title='Number of ACOs')),\n",
    "    color='Earning:N',\n",
    "    column='year:O'\n",
    ")\n",
    "\n"
   ]
  },
  {
   "cell_type": "code",
   "execution_count": null,
   "metadata": {},
   "outputs": [],
   "source": []
  },
  {
   "cell_type": "code",
   "execution_count": null,
   "metadata": {},
   "outputs": [],
   "source": []
  }
 ],
 "metadata": {
  "kernelspec": {
   "display_name": "Python 3",
   "language": "python",
   "name": "python3"
  },
  "language_info": {
   "codemirror_mode": {
    "name": "ipython",
    "version": 3
   },
   "file_extension": ".py",
   "mimetype": "text/x-python",
   "name": "python",
   "nbconvert_exporter": "python",
   "pygments_lexer": "ipython3",
   "version": "3.6.8"
  }
 },
 "nbformat": 4,
 "nbformat_minor": 2
}
